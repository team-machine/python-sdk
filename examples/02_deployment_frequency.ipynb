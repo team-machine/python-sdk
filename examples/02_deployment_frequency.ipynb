{
 "cells": [
  {
   "cell_type": "code",
   "execution_count": 1,
   "metadata": {},
   "outputs": [
    {
     "data": {
      "text/plain": [
       "RendererRegistry.enable('notebook')"
      ]
     },
     "execution_count": 1,
     "metadata": {},
     "output_type": "execute_result"
    }
   ],
   "source": [
    "import json\n",
    "import os.path\n",
    "\n",
    "import altair as alt\n",
    "import pandas as pd\n",
    "import teammachine as tm\n",
    "\n",
    "# Altair configuration\n",
    "# Comment this line if using plain Jupyter Lab instead of a plain notebook\n",
    "alt.renderers.enable('notebook')"
   ]
  },
  {
   "cell_type": "code",
   "execution_count": 2,
   "metadata": {},
   "outputs": [],
   "source": [
    "# Construct a teammachine Client with credentials downloaded from https://app.teammachine.io/spaces/api-clients\n",
    "with open('/path/to/credentials.json') as f:\n",
    "    credentials = json.load(f)\n",
    "    \n",
    "client = tm.Client(**credentials)"
   ]
  },
  {
   "cell_type": "code",
   "execution_count": 3,
   "metadata": {},
   "outputs": [
    {
     "data": {
      "text/html": [
       "<div>\n",
       "<style scoped>\n",
       "    .dataframe tbody tr th:only-of-type {\n",
       "        vertical-align: middle;\n",
       "    }\n",
       "\n",
       "    .dataframe tbody tr th {\n",
       "        vertical-align: top;\n",
       "    }\n",
       "\n",
       "    .dataframe thead th {\n",
       "        text-align: right;\n",
       "    }\n",
       "</style>\n",
       "<table border=\"1\" class=\"dataframe\">\n",
       "  <thead>\n",
       "    <tr style=\"text-align: right;\">\n",
       "      <th></th>\n",
       "      <th>tm_id</th>\n",
       "      <th>created_at</th>\n",
       "      <th>created_by_tm_id</th>\n",
       "    </tr>\n",
       "  </thead>\n",
       "  <tbody>\n",
       "    <tr>\n",
       "      <td>0</td>\n",
       "      <td>gic-4IalmhxiMXkPiU</td>\n",
       "      <td>2019-10-23 12:17:41+00:00</td>\n",
       "      <td>iid-6lg5CKjkTiiUr</td>\n",
       "    </tr>\n",
       "    <tr>\n",
       "      <td>1</td>\n",
       "      <td>gic-2YJoHgXHrYgwkR</td>\n",
       "      <td>2019-10-22 11:05:53+00:00</td>\n",
       "      <td>iid-6lg5CKjkTiiUr</td>\n",
       "    </tr>\n",
       "    <tr>\n",
       "      <td>2</td>\n",
       "      <td>gic-3ovBWrmc3CKMrG</td>\n",
       "      <td>2019-10-14 10:06:59+00:00</td>\n",
       "      <td>iid-4tnEdSLy5s1lOD</td>\n",
       "    </tr>\n",
       "    <tr>\n",
       "      <td>3</td>\n",
       "      <td>gic-1FVip8vwfdypHf</td>\n",
       "      <td>2019-10-01 08:26:08+00:00</td>\n",
       "      <td>iid-6lg5CKjkTiiUr</td>\n",
       "    </tr>\n",
       "    <tr>\n",
       "      <td>4</td>\n",
       "      <td>gic-1bop3JS6cT2YYs</td>\n",
       "      <td>2019-09-18 15:34:28+00:00</td>\n",
       "      <td>iid-6lg5CKjkTiiUr</td>\n",
       "    </tr>\n",
       "  </tbody>\n",
       "</table>\n",
       "</div>"
      ],
      "text/plain": [
       "                tm_id                created_at    created_by_tm_id\n",
       "0  gic-4IalmhxiMXkPiU 2019-10-23 12:17:41+00:00   iid-6lg5CKjkTiiUr\n",
       "1  gic-2YJoHgXHrYgwkR 2019-10-22 11:05:53+00:00   iid-6lg5CKjkTiiUr\n",
       "2  gic-3ovBWrmc3CKMrG 2019-10-14 10:06:59+00:00  iid-4tnEdSLy5s1lOD\n",
       "3  gic-1FVip8vwfdypHf 2019-10-01 08:26:08+00:00   iid-6lg5CKjkTiiUr\n",
       "4  gic-1bop3JS6cT2YYs 2019-09-18 15:34:28+00:00   iid-6lg5CKjkTiiUr"
      ]
     },
     "execution_count": 3,
     "metadata": {},
     "output_type": "execute_result"
    }
   ],
   "source": [
    "# At teammachine we use Weave Works (https://www.weave.works/) for releasing our Kubernetes services\n",
    "# so an indicator of a release is a change to a file in the \"releases\" folder in our gitops repo\n",
    "\n",
    "query = client.code_file(path='tm-saas/releases/tm-web.yaml').activity(start_date='2019-06-01')\n",
    "\n",
    "web_releases = query.request()\n",
    "web_releases.dataframes.code_file_activity[['tm_id', 'created_at', 'created_by_tm_id']].head()"
   ]
  },
  {
   "cell_type": "code",
   "execution_count": 4,
   "metadata": {},
   "outputs": [],
   "source": [
    "# The above query was for a single service, represented by a single file.\n",
    "# We can get the releases for all services by inspecting all the files in the folder\n",
    "\n",
    "query = client.code_folder(\n",
    "    path='tm-saas/releases/'\n",
    ").fields(\n",
    "    files=tm.NodeField().activity(start_date='2019-06-01'),\n",
    ")"
   ]
  },
  {
   "cell_type": "code",
   "execution_count": 5,
   "metadata": {},
   "outputs": [
    {
     "name": "stdout",
     "output_type": "stream",
     "text": [
      "<DataFrames: files_activity, code_folder_files, code_folder>\n"
     ]
    }
   ],
   "source": [
    "releases = query.request()\n",
    "# the releases result contains three dataframes for folders, files, and files activity\n",
    "print(releases.dataframes)"
   ]
  },
  {
   "cell_type": "code",
   "execution_count": 6,
   "metadata": {},
   "outputs": [
    {
     "data": {
      "text/html": [
       "<div>\n",
       "<style scoped>\n",
       "    .dataframe tbody tr th:only-of-type {\n",
       "        vertical-align: middle;\n",
       "    }\n",
       "\n",
       "    .dataframe tbody tr th {\n",
       "        vertical-align: top;\n",
       "    }\n",
       "\n",
       "    .dataframe thead th {\n",
       "        text-align: right;\n",
       "    }\n",
       "</style>\n",
       "<table border=\"1\" class=\"dataframe\">\n",
       "  <thead>\n",
       "    <tr style=\"text-align: right;\">\n",
       "      <th></th>\n",
       "      <th>files_id</th>\n",
       "      <th>tm_id</th>\n",
       "      <th>created_at</th>\n",
       "      <th>created_by_tm_id</th>\n",
       "    </tr>\n",
       "  </thead>\n",
       "  <tbody>\n",
       "    <tr>\n",
       "      <td>0</td>\n",
       "      <td>gip-3VHoAckqQrqwSL</td>\n",
       "      <td>gic-2VaJUoj0ZZBPl5</td>\n",
       "      <td>2019-10-11 08:02:22+00:00</td>\n",
       "      <td>iid-6lg5CKjkTiiUr</td>\n",
       "    </tr>\n",
       "    <tr>\n",
       "      <td>1</td>\n",
       "      <td>gip-62OJS50BzIQQdp</td>\n",
       "      <td>gic-JEzeoekc85mKb</td>\n",
       "      <td>2019-09-18 15:48:01+00:00</td>\n",
       "      <td>iid-6lg5CKjkTiiUr</td>\n",
       "    </tr>\n",
       "    <tr>\n",
       "      <td>2</td>\n",
       "      <td>gip-2Uy0yDoUKOXdp</td>\n",
       "      <td>gic-5TSDYfcRqUKgxD</td>\n",
       "      <td>2019-08-29 10:55:47+00:00</td>\n",
       "      <td>iid-6lg5CKjkTiiUr</td>\n",
       "    </tr>\n",
       "    <tr>\n",
       "      <td>3</td>\n",
       "      <td>gip-2Uy0yDoUKOXdp</td>\n",
       "      <td>gic-1a3zzYpE8zYB6x</td>\n",
       "      <td>2019-08-29 09:36:47+00:00</td>\n",
       "      <td>iid-6lg5CKjkTiiUr</td>\n",
       "    </tr>\n",
       "    <tr>\n",
       "      <td>4</td>\n",
       "      <td>gip-2Uy0yDoUKOXdp</td>\n",
       "      <td>gic-3Eo2vW0mJIhIBP</td>\n",
       "      <td>2019-08-23 12:35:14+00:00</td>\n",
       "      <td>iid-6lg5CKjkTiiUr</td>\n",
       "    </tr>\n",
       "  </tbody>\n",
       "</table>\n",
       "</div>"
      ],
      "text/plain": [
       "             files_id               tm_id                created_at  \\\n",
       "0  gip-3VHoAckqQrqwSL  gic-2VaJUoj0ZZBPl5 2019-10-11 08:02:22+00:00   \n",
       "1  gip-62OJS50BzIQQdp   gic-JEzeoekc85mKb 2019-09-18 15:48:01+00:00   \n",
       "2   gip-2Uy0yDoUKOXdp  gic-5TSDYfcRqUKgxD 2019-08-29 10:55:47+00:00   \n",
       "3   gip-2Uy0yDoUKOXdp  gic-1a3zzYpE8zYB6x 2019-08-29 09:36:47+00:00   \n",
       "4   gip-2Uy0yDoUKOXdp  gic-3Eo2vW0mJIhIBP 2019-08-23 12:35:14+00:00   \n",
       "\n",
       "    created_by_tm_id  \n",
       "0  iid-6lg5CKjkTiiUr  \n",
       "1  iid-6lg5CKjkTiiUr  \n",
       "2  iid-6lg5CKjkTiiUr  \n",
       "3  iid-6lg5CKjkTiiUr  \n",
       "4  iid-6lg5CKjkTiiUr  "
      ]
     },
     "execution_count": 6,
     "metadata": {},
     "output_type": "execute_result"
    }
   ],
   "source": [
    "releases.dataframes.files_activity[['files_id', 'tm_id', 'created_at', 'created_by_tm_id']].head()"
   ]
  },
  {
   "cell_type": "code",
   "execution_count": 7,
   "metadata": {},
   "outputs": [
    {
     "name": "stdout",
     "output_type": "stream",
     "text": [
      "Total deployments = 96\n"
     ]
    }
   ],
   "source": [
    "# In GitOps, a commit represents a deployment, however, multiple services could be \n",
    "# deployed simultaneously. Because the commits in our DataFrame are grouped by service (i.e. file), \n",
    "# we should discard duplicate commit IDs and then group by commit time to calculate deployment frequency\n",
    "\n",
    "deployments = (releases\n",
    "               .dataframes\n",
    "               .files_activity[['tm_id', 'created_at']]\n",
    "               .drop_duplicates()\n",
    "               .groupby(pd.Grouper(key='created_at', freq='m'))\n",
    "               .count())\n",
    "\n",
    "print(f'Total deployments = {deployments.tm_id.sum()}')"
   ]
  },
  {
   "cell_type": "code",
   "execution_count": 8,
   "metadata": {},
   "outputs": [
    {
     "data": {
      "application/javascript": [
       "const spec = {\"config\": {\"view\": {\"width\": 400, \"height\": 300, \"strokeWidth\": 0}, \"mark\": {\"tooltip\": null}, \"axis\": {\"grid\": false}}, \"data\": {\"name\": \"data-d9c144145fb04af2e3d291ed9cef7574\"}, \"mark\": \"bar\", \"encoding\": {\"tooltip\": [{\"type\": \"quantitative\", \"aggregate\": \"sum\", \"field\": \"tm_id\", \"title\": \"Deployments\"}], \"x\": {\"type\": \"ordinal\", \"axis\": {\"title\": null}, \"field\": \"created_at\", \"timeUnit\": \"yearmonth\"}, \"y\": {\"type\": \"quantitative\", \"aggregate\": \"sum\", \"axis\": {\"title\": \"Deployments per month\"}, \"field\": \"tm_id\"}}, \"height\": 300, \"width\": 600, \"$schema\": \"https://vega.github.io/schema/vega-lite/v3.4.0.json\", \"datasets\": {\"data-d9c144145fb04af2e3d291ed9cef7574\": [{\"created_at\": \"2019-06-30T00:00:00+00:00\", \"tm_id\": 24}, {\"created_at\": \"2019-07-31T00:00:00+00:00\", \"tm_id\": 30}, {\"created_at\": \"2019-08-31T00:00:00+00:00\", \"tm_id\": 16}, {\"created_at\": \"2019-09-30T00:00:00+00:00\", \"tm_id\": 15}, {\"created_at\": \"2019-10-31T00:00:00+00:00\", \"tm_id\": 11}]}};\n",
       "const opt = {};\n",
       "const type = \"vega-lite\";\n",
       "const id = \"cfd5ad16-b2ca-44a9-bea9-2c6d05d3a26d\";\n",
       "\n",
       "const output_area = this;\n",
       "\n",
       "require([\"nbextensions/jupyter-vega/index\"], function(vega) {\n",
       "  const target = document.createElement(\"div\");\n",
       "  target.id = id;\n",
       "  target.className = \"vega-embed\";\n",
       "\n",
       "  const style = document.createElement(\"style\");\n",
       "  style.textContent = [\n",
       "    \".vega-embed .error p {\",\n",
       "    \"  color: firebrick;\",\n",
       "    \"  font-size: 14px;\",\n",
       "    \"}\",\n",
       "  ].join(\"\\\\n\");\n",
       "\n",
       "  // element is a jQuery wrapped DOM element inside the output area\n",
       "  // see http://ipython.readthedocs.io/en/stable/api/generated/\\\n",
       "  // IPython.display.html#IPython.display.Javascript.__init__\n",
       "  element[0].appendChild(target);\n",
       "  element[0].appendChild(style);\n",
       "\n",
       "  vega.render(\"#\" + id, spec, type, opt, output_area);\n",
       "}, function (err) {\n",
       "  if (err.requireType !== \"scripterror\") {\n",
       "    throw(err);\n",
       "  }\n",
       "});\n"
      ],
      "text/plain": [
       "<vega.vegalite.VegaLite at 0x12b1815f8>"
      ]
     },
     "metadata": {
      "jupyter-vega": "#cfd5ad16-b2ca-44a9-bea9-2c6d05d3a26d"
     },
     "output_type": "display_data"
    },
    {
     "data": {
      "text/plain": []
     },
     "execution_count": 8,
     "metadata": {},
     "output_type": "execute_result"
    },
    {
     "data": {
      "image/png": "[encoded data removed]"
     },
     "metadata": {
      "jupyter-vega": "#cfd5ad16-b2ca-44a9-bea9-2c6d05d3a26d"
     },
     "output_type": "display_data"
    }
   ],
   "source": [
    "# We can now easily plot the deployment frequency\n",
    "\n",
    "alt.Chart(\n",
    "    # altair cannot use the index so reset the dataframe's index\n",
    "    deployments.reset_index(),\n",
    "    width=600,\n",
    "    height=300,\n",
    ").mark_bar().encode(\n",
    "    x=alt.X('yearmonth(created_at):O', axis=alt.Axis(title=None)),\n",
    "    y=alt.Y('sum(tm_id):Q', axis=alt.Axis(title='Deployments per month')),\n",
    "    tooltip=[alt.Tooltip('sum(tm_id):Q', title='Deployments')],\n",
    ").configure_axis(grid=False).configure_view(strokeWidth=0)"
   ]
  },
  {
   "cell_type": "code",
   "execution_count": null,
   "metadata": {},
   "outputs": [],
   "source": []
  }
 ],
 "metadata": {
  "kernelspec": {
   "display_name": "Python 3",
   "language": "python",
   "name": "python3"
  },
  "language_info": {
   "codemirror_mode": {
    "name": "ipython",
    "version": 3
   },
   "file_extension": ".py",
   "mimetype": "text/x-python",
   "name": "python",
   "nbconvert_exporter": "python",
   "pygments_lexer": "ipython3",
   "version": "3.7.3"
  }
 },
 "nbformat": 4,
 "nbformat_minor": 2
}
