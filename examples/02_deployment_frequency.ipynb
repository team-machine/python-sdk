{
 "cells": [
  {
   "cell_type": "code",
   "execution_count": 1,
   "metadata": {},
   "outputs": [
    {
     "data": {
      "text/plain": [
       "RendererRegistry.enable('notebook')"
      ]
     },
     "execution_count": 1,
     "metadata": {},
     "output_type": "execute_result"
    }
   ],
   "source": [
    "import json\n",
    "import os.path\n",
    "\n",
    "import altair as alt\n",
    "import teammachine as tm\n",
    "\n",
    "# Altair configuration\n",
    "# Comment this line if using Jupyter Lab instead of a plain notebook\n",
    "alt.renderers.enable('notebook')"
   ]
  },
  {
   "cell_type": "code",
   "execution_count": 2,
   "metadata": {},
   "outputs": [],
   "source": [
    "# Construct a teammachine Client with credentials downloaded from https://app.teammachine.io/spaces/api-clients\n",
    "with open('/Users/matti/Projects/team-machine/auth/dogfood-credentials.json') as f:\n",
    "    credentials = json.load(f)\n",
    "    \n",
    "client = tm.Client(\n",
    "    authorization_url='https://svc.teammachine.io/svc/v1/tokens', \n",
    "    query_url='https://query.teammachine.io/query', \n",
    "    **credentials\n",
    ")"
   ]
  },
  {
   "cell_type": "code",
   "execution_count": 3,
   "metadata": {},
   "outputs": [
    {
     "data": {
      "text/html": [
       "<div>\n",
       "<style scoped>\n",
       "    .dataframe tbody tr th:only-of-type {\n",
       "        vertical-align: middle;\n",
       "    }\n",
       "\n",
       "    .dataframe tbody tr th {\n",
       "        vertical-align: top;\n",
       "    }\n",
       "\n",
       "    .dataframe thead th {\n",
       "        text-align: right;\n",
       "    }\n",
       "</style>\n",
       "<table border=\"1\" class=\"dataframe\">\n",
       "  <thead>\n",
       "    <tr style=\"text-align: right;\">\n",
       "      <th></th>\n",
       "      <th>code_file_id</th>\n",
       "      <th>count</th>\n",
       "      <th>date</th>\n",
       "    </tr>\n",
       "  </thead>\n",
       "  <tbody>\n",
       "    <tr>\n",
       "      <td>0</td>\n",
       "      <td>gip-3MWjEwuKSxdnyY</td>\n",
       "      <td>2</td>\n",
       "      <td>2019-06-01</td>\n",
       "    </tr>\n",
       "    <tr>\n",
       "      <td>1</td>\n",
       "      <td>gip-3MWjEwuKSxdnyY</td>\n",
       "      <td>4</td>\n",
       "      <td>2019-07-01</td>\n",
       "    </tr>\n",
       "    <tr>\n",
       "      <td>2</td>\n",
       "      <td>gip-3MWjEwuKSxdnyY</td>\n",
       "      <td>3</td>\n",
       "      <td>2019-08-01</td>\n",
       "    </tr>\n",
       "    <tr>\n",
       "      <td>3</td>\n",
       "      <td>gip-3MWjEwuKSxdnyY</td>\n",
       "      <td>5</td>\n",
       "      <td>2019-09-01</td>\n",
       "    </tr>\n",
       "    <tr>\n",
       "      <td>4</td>\n",
       "      <td>gip-3MWjEwuKSxdnyY</td>\n",
       "      <td>4</td>\n",
       "      <td>2019-10-01</td>\n",
       "    </tr>\n",
       "  </tbody>\n",
       "</table>\n",
       "</div>"
      ],
      "text/plain": [
       "         code_file_id  count        date\n",
       "0  gip-3MWjEwuKSxdnyY      2  2019-06-01\n",
       "1  gip-3MWjEwuKSxdnyY      4  2019-07-01\n",
       "2  gip-3MWjEwuKSxdnyY      3  2019-08-01\n",
       "3  gip-3MWjEwuKSxdnyY      5  2019-09-01\n",
       "4  gip-3MWjEwuKSxdnyY      4  2019-10-01"
      ]
     },
     "execution_count": 3,
     "metadata": {},
     "output_type": "execute_result"
    }
   ],
   "source": [
    "# At teammachine we use Weave Works (https://www.weave.works/) for releasing our Kubernetes services\n",
    "# so an indicator of a deployment is a change to a file in the \"releases\" folder in our gitops repo\n",
    "\n",
    "query = client.code_file(path='tm-saas/releases/tm-web.yaml').activity_count(\n",
    "    start_date='2019-06-01', \n",
    "    end_date='2019-12-31',\n",
    "    interval={'frequency': tm.Frequency('month')},\n",
    ")\n",
    "\n",
    "web_releases = query.request()\n",
    "web_releases.dataframes.code_file_activity_count.head()"
   ]
  },
  {
   "cell_type": "code",
   "execution_count": 4,
   "metadata": {},
   "outputs": [],
   "source": [
    "# The above query gave us deployments for a single service, we can get a count of all deployemnts\n",
    "# by requesting the activity_count on the whole folder\n",
    "query = client.code_folder(\n",
    "    path='tm-saas/releases/'\n",
    ").activity_count(\n",
    "    start_date='2019-06-01',\n",
    "    end_date='2019-12-31',\n",
    "    interval={'frequency': tm.Frequency('month')},\n",
    ")"
   ]
  },
  {
   "cell_type": "code",
   "execution_count": 5,
   "metadata": {},
   "outputs": [
    {
     "name": "stdout",
     "output_type": "stream",
     "text": [
      "<DataFrames: code_folder_activity_count, code_folder>\n"
     ]
    }
   ],
   "source": [
    "releases = query.request()\n",
    "print(releases.dataframes)"
   ]
  },
  {
   "cell_type": "code",
   "execution_count": 6,
   "metadata": {},
   "outputs": [
    {
     "data": {
      "text/html": [
       "<div>\n",
       "<style scoped>\n",
       "    .dataframe tbody tr th:only-of-type {\n",
       "        vertical-align: middle;\n",
       "    }\n",
       "\n",
       "    .dataframe tbody tr th {\n",
       "        vertical-align: top;\n",
       "    }\n",
       "\n",
       "    .dataframe thead th {\n",
       "        text-align: right;\n",
       "    }\n",
       "</style>\n",
       "<table border=\"1\" class=\"dataframe\">\n",
       "  <thead>\n",
       "    <tr style=\"text-align: right;\">\n",
       "      <th></th>\n",
       "      <th>code_folder_id</th>\n",
       "      <th>count</th>\n",
       "      <th>date</th>\n",
       "    </tr>\n",
       "  </thead>\n",
       "  <tbody>\n",
       "    <tr>\n",
       "      <td>0</td>\n",
       "      <td>gip-3tK12zNdHQYwYZ</td>\n",
       "      <td>24</td>\n",
       "      <td>2019-06-01</td>\n",
       "    </tr>\n",
       "    <tr>\n",
       "      <td>1</td>\n",
       "      <td>gip-3tK12zNdHQYwYZ</td>\n",
       "      <td>30</td>\n",
       "      <td>2019-07-01</td>\n",
       "    </tr>\n",
       "    <tr>\n",
       "      <td>2</td>\n",
       "      <td>gip-3tK12zNdHQYwYZ</td>\n",
       "      <td>16</td>\n",
       "      <td>2019-08-01</td>\n",
       "    </tr>\n",
       "    <tr>\n",
       "      <td>3</td>\n",
       "      <td>gip-3tK12zNdHQYwYZ</td>\n",
       "      <td>15</td>\n",
       "      <td>2019-09-01</td>\n",
       "    </tr>\n",
       "    <tr>\n",
       "      <td>4</td>\n",
       "      <td>gip-3tK12zNdHQYwYZ</td>\n",
       "      <td>11</td>\n",
       "      <td>2019-10-01</td>\n",
       "    </tr>\n",
       "  </tbody>\n",
       "</table>\n",
       "</div>"
      ],
      "text/plain": [
       "       code_folder_id  count        date\n",
       "0  gip-3tK12zNdHQYwYZ     24  2019-06-01\n",
       "1  gip-3tK12zNdHQYwYZ     30  2019-07-01\n",
       "2  gip-3tK12zNdHQYwYZ     16  2019-08-01\n",
       "3  gip-3tK12zNdHQYwYZ     15  2019-09-01\n",
       "4  gip-3tK12zNdHQYwYZ     11  2019-10-01"
      ]
     },
     "execution_count": 6,
     "metadata": {},
     "output_type": "execute_result"
    }
   ],
   "source": [
    "releases.dataframes.code_folder_activity_count.head()"
   ]
  },
  {
   "cell_type": "code",
   "execution_count": 7,
   "metadata": {},
   "outputs": [
    {
     "data": {
      "application/javascript": [
       "const spec = {\"config\": {\"view\": {\"width\": 400, \"height\": 300, \"strokeWidth\": 0}, \"mark\": {\"tooltip\": null}, \"axis\": {\"grid\": false}}, \"data\": {\"name\": \"data-1b881430d13b1445ba18eb79fc44f166\"}, \"mark\": \"bar\", \"encoding\": {\"tooltip\": [{\"type\": \"quantitative\", \"field\": \"count\", \"title\": \"Deployments\"}], \"x\": {\"type\": \"ordinal\", \"axis\": {\"title\": null}, \"field\": \"date\", \"timeUnit\": \"yearmonth\"}, \"y\": {\"type\": \"quantitative\", \"axis\": {\"title\": \"Deployments per month\"}, \"field\": \"count\"}}, \"height\": 300, \"width\": 600, \"$schema\": \"https://vega.github.io/schema/vega-lite/v3.4.0.json\", \"datasets\": {\"data-1b881430d13b1445ba18eb79fc44f166\": [{\"code_folder_id\": \"gip-3tK12zNdHQYwYZ\", \"count\": 24, \"date\": \"2019-06-01\"}, {\"code_folder_id\": \"gip-3tK12zNdHQYwYZ\", \"count\": 30, \"date\": \"2019-07-01\"}, {\"code_folder_id\": \"gip-3tK12zNdHQYwYZ\", \"count\": 16, \"date\": \"2019-08-01\"}, {\"code_folder_id\": \"gip-3tK12zNdHQYwYZ\", \"count\": 15, \"date\": \"2019-09-01\"}, {\"code_folder_id\": \"gip-3tK12zNdHQYwYZ\", \"count\": 11, \"date\": \"2019-10-01\"}, {\"code_folder_id\": \"gip-3tK12zNdHQYwYZ\", \"count\": 0, \"date\": \"2019-11-01\"}, {\"code_folder_id\": \"gip-3tK12zNdHQYwYZ\", \"count\": 0, \"date\": \"2019-12-01\"}]}};\n",
       "const opt = {};\n",
       "const type = \"vega-lite\";\n",
       "const id = \"7b83c481-4f8f-4cab-82f1-c6c12d186eb4\";\n",
       "\n",
       "const output_area = this;\n",
       "\n",
       "require([\"nbextensions/jupyter-vega/index\"], function(vega) {\n",
       "  const target = document.createElement(\"div\");\n",
       "  target.id = id;\n",
       "  target.className = \"vega-embed\";\n",
       "\n",
       "  const style = document.createElement(\"style\");\n",
       "  style.textContent = [\n",
       "    \".vega-embed .error p {\",\n",
       "    \"  color: firebrick;\",\n",
       "    \"  font-size: 14px;\",\n",
       "    \"}\",\n",
       "  ].join(\"\\\\n\");\n",
       "\n",
       "  // element is a jQuery wrapped DOM element inside the output area\n",
       "  // see http://ipython.readthedocs.io/en/stable/api/generated/\\\n",
       "  // IPython.display.html#IPython.display.Javascript.__init__\n",
       "  element[0].appendChild(target);\n",
       "  element[0].appendChild(style);\n",
       "\n",
       "  vega.render(\"#\" + id, spec, type, opt, output_area);\n",
       "}, function (err) {\n",
       "  if (err.requireType !== \"scripterror\") {\n",
       "    throw(err);\n",
       "  }\n",
       "});\n"
      ],
      "text/plain": [
       "<vega.vegalite.VegaLite at 0x123889518>"
      ]
     },
     "metadata": {
      "jupyter-vega": "#7b83c481-4f8f-4cab-82f1-c6c12d186eb4"
     },
     "output_type": "display_data"
    },
    {
     "data": {
      "text/plain": []
     },
     "execution_count": 7,
     "metadata": {},
     "output_type": "execute_result"
    },
    {
     "data": {
      "image/png": "[encoded data removed]"
     },
     "metadata": {
      "jupyter-vega": "#7b83c481-4f8f-4cab-82f1-c6c12d186eb4"
     },
     "output_type": "display_data"
    }
   ],
   "source": [
    "# We can now easily plot the deployment frequency\n",
    "\n",
    "alt.Chart(\n",
    "    releases.dataframes.code_folder_activity_count,\n",
    "    width=600,\n",
    "    height=300,\n",
    ").mark_bar().encode(\n",
    "    x=alt.X('yearmonth(date):O', axis=alt.Axis(title=None)),\n",
    "    y=alt.Y('count:Q', axis=alt.Axis(title='Deployments per month')),\n",
    "    tooltip=[alt.Tooltip('count:Q', title='Deployments')],\n",
    ").configure_axis(grid=False).configure_view(strokeWidth=0)"
   ]
  },
  {
   "cell_type": "code",
   "execution_count": null,
   "metadata": {},
   "outputs": [],
   "source": []
  }
 ],
 "metadata": {
  "kernelspec": {
   "display_name": "Python 3",
   "language": "python",
   "name": "python3"
  },
  "language_info": {
   "codemirror_mode": {
    "name": "ipython",
    "version": 3
   },
   "file_extension": ".py",
   "mimetype": "text/x-python",
   "name": "python",
   "nbconvert_exporter": "python",
   "pygments_lexer": "ipython3",
   "version": "3.7.3"
  }
 },
 "nbformat": 4,
 "nbformat_minor": 2
}
